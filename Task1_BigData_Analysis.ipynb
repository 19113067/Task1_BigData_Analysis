{
 "cells": [
  {
   "cell_type": "markdown",
   "id": "d60fcad2",
   "metadata": {},
   "source": [
    "# Big Data Analysis using PySpark\n",
    "\n",
    "COMPANY: CODTECH IT SOLUTIONS\n",
    "\n",
    "NAME: YAKKALA LAHARI\n",
    "\n",
    "INTERN ID: CT04DY2623\n",
    "\n",
    "DOMAIN: DATA ANALYTICS\n",
    "\n",
    "DURATION: 4 WEEKS\n",
    "\n",
    "MENTOR: NEELA SANTHOSH"
   ]
  },
  {
   "cell_type": "code",
   "execution_count": 1,
   "id": "61dea3f1",
   "metadata": {},
   "outputs": [],
   "source": [
    "import os\n",
    "import urllib.request\n",
    "from pyspark.sql import SparkSession\n",
    "from pyspark.sql.functions import col, count, avg, hour, desc, to_timestamp\n",
    "import matplotlib.pyplot as plt\n",
    "import pandas as pd"
   ]
  },
  {
   "cell_type": "markdown",
   "id": "d77305e5",
   "metadata": {},
   "source": [
    "## Setup and Dataset Download"
   ]
  },
  {
   "cell_type": "code",
   "execution_count": 2,
   "id": "2f7ced49",
   "metadata": {},
   "outputs": [
    {
     "name": "stdout",
     "output_type": "stream",
     "text": [
      "Dataset already available locally.\n"
     ]
    }
   ],
   "source": [
    "DATA_DIR = './data'\n",
    "os.makedirs(DATA_DIR, exist_ok=True)\n",
    "\n",
    "PARQUET_URL = 'https://d37ci6vzurychx.cloudfront.net/trip-data/yellow_tripdata_2023-01.parquet'\n",
    "PARQUET_LOCAL = os.path.join(DATA_DIR, 'yellow_tripdata_2023-01.parquet')\n",
    "\n",
    "if not os.path.exists(PARQUET_LOCAL):\n",
    "    print('Downloading dataset...')\n",
    "    urllib.request.urlretrieve(PARQUET_URL, PARQUET_LOCAL)\n",
    "    print('Download complete.')\n",
    "else:\n",
    "    print('Dataset already available locally.')"
   ]
  },
  {
   "cell_type": "markdown",
   "id": "31db38de",
   "metadata": {},
   "source": [
    "## Initialize Spark Session"
   ]
  },
  {
   "cell_type": "code",
   "execution_count": 3,
   "id": "7999630d",
   "metadata": {},
   "outputs": [
    {
     "name": "stdout",
     "output_type": "stream",
     "text": [
      "Spark Session Created: BigData_PySpark_Analysis\n"
     ]
    }
   ],
   "source": [
    "from pyspark.sql import SparkSession\n",
    "\n",
    "# Initialize Spark session\n",
    "spark = (\n",
    "    SparkSession.builder\n",
    "    .appName(\"BigData_PySpark_Analysis\")\n",
    "    .config(\"spark.driver.memory\", \"4g\")\n",
    "    .getOrCreate()\n",
    ")\n",
    "\n",
    "print(\"Spark Session Created:\", spark.sparkContext.appName)\n"
   ]
  },
  {
   "cell_type": "markdown",
   "id": "d6e1bff0",
   "metadata": {},
   "source": [
    "## Load and Explore Dataset"
   ]
  },
  {
   "cell_type": "code",
   "execution_count": 4,
   "id": "cd59e098",
   "metadata": {},
   "outputs": [
    {
     "name": "stdout",
     "output_type": "stream",
     "text": [
      "Dataset Loaded Successfully\n",
      "root\n",
      " |-- VendorID: long (nullable = true)\n",
      " |-- tpep_pickup_datetime: timestamp_ntz (nullable = true)\n",
      " |-- tpep_dropoff_datetime: timestamp_ntz (nullable = true)\n",
      " |-- passenger_count: double (nullable = true)\n",
      " |-- trip_distance: double (nullable = true)\n",
      " |-- RatecodeID: double (nullable = true)\n",
      " |-- store_and_fwd_flag: string (nullable = true)\n",
      " |-- PULocationID: long (nullable = true)\n",
      " |-- DOLocationID: long (nullable = true)\n",
      " |-- payment_type: long (nullable = true)\n",
      " |-- fare_amount: double (nullable = true)\n",
      " |-- extra: double (nullable = true)\n",
      " |-- mta_tax: double (nullable = true)\n",
      " |-- tip_amount: double (nullable = true)\n",
      " |-- tolls_amount: double (nullable = true)\n",
      " |-- improvement_surcharge: double (nullable = true)\n",
      " |-- total_amount: double (nullable = true)\n",
      " |-- congestion_surcharge: double (nullable = true)\n",
      " |-- airport_fee: double (nullable = true)\n",
      "\n",
      "+--------+--------------------+---------------------+---------------+-------------+----------+------------------+------------+------------+------------+-----------+-----+-------+----------+------------+---------------------+------------+--------------------+-----------+\n",
      "|VendorID|tpep_pickup_datetime|tpep_dropoff_datetime|passenger_count|trip_distance|RatecodeID|store_and_fwd_flag|PULocationID|DOLocationID|payment_type|fare_amount|extra|mta_tax|tip_amount|tolls_amount|improvement_surcharge|total_amount|congestion_surcharge|airport_fee|\n",
      "+--------+--------------------+---------------------+---------------+-------------+----------+------------------+------------+------------+------------+-----------+-----+-------+----------+------------+---------------------+------------+--------------------+-----------+\n",
      "|       2| 2023-01-01 00:32:10|  2023-01-01 00:40:36|            1.0|         0.97|       1.0|                 N|         161|         141|           2|        9.3|  1.0|    0.5|       0.0|         0.0|                  1.0|        14.3|                 2.5|        0.0|\n",
      "|       2| 2023-01-01 00:55:08|  2023-01-01 01:01:27|            1.0|          1.1|       1.0|                 N|          43|         237|           1|        7.9|  1.0|    0.5|       4.0|         0.0|                  1.0|        16.9|                 2.5|        0.0|\n",
      "|       2| 2023-01-01 00:25:04|  2023-01-01 00:37:49|            1.0|         2.51|       1.0|                 N|          48|         238|           1|       14.9|  1.0|    0.5|      15.0|         0.0|                  1.0|        34.9|                 2.5|        0.0|\n",
      "|       1| 2023-01-01 00:03:48|  2023-01-01 00:13:25|            0.0|          1.9|       1.0|                 N|         138|           7|           1|       12.1| 7.25|    0.5|       0.0|         0.0|                  1.0|       20.85|                 0.0|       1.25|\n",
      "|       2| 2023-01-01 00:10:29|  2023-01-01 00:21:19|            1.0|         1.43|       1.0|                 N|         107|          79|           1|       11.4|  1.0|    0.5|      3.28|         0.0|                  1.0|       19.68|                 2.5|        0.0|\n",
      "+--------+--------------------+---------------------+---------------+-------------+----------+------------------+------------+------------+------------+-----------+-----+-------+----------+------------+---------------------+------------+--------------------+-----------+\n",
      "only showing top 5 rows\n"
     ]
    }
   ],
   "source": [
    "df = spark.read.parquet(PARQUET_LOCAL)\n",
    "print('Dataset Loaded Successfully')\n",
    "df.printSchema()\n",
    "df.show(5)"
   ]
  },
  {
   "cell_type": "markdown",
   "id": "7f1b7afd",
   "metadata": {},
   "source": [
    "## Data Cleaning and Preprocessing"
   ]
  },
  {
   "cell_type": "code",
   "execution_count": 5,
   "id": "553617c3",
   "metadata": {},
   "outputs": [
    {
     "name": "stdout",
     "output_type": "stream",
     "text": [
      "Cleaned dataset:\n",
      "Total Records: 2998382\n"
     ]
    }
   ],
   "source": [
    "df = df.dropna(subset=['tpep_pickup_datetime', 'trip_distance', 'fare_amount'])\n",
    "df = df.filter((col('trip_distance') > 0) & (col('fare_amount') > 0))\n",
    "df = df.withColumn('tpep_pickup_datetime', to_timestamp('tpep_pickup_datetime'))\n",
    "print('Cleaned dataset:')\n",
    "print('Total Records:', df.count())"
   ]
  },
  {
   "cell_type": "markdown",
   "id": "fcb7efe4",
   "metadata": {},
   "source": [
    "## Exploratory Data Analysis (EDA)"
   ]
  },
  {
   "cell_type": "code",
   "execution_count": 6,
   "id": "d5513baf",
   "metadata": {},
   "outputs": [
    {
     "name": "stdout",
     "output_type": "stream",
     "text": [
      "+-----------+----------+\n",
      "|pickup_hour|trip_count|\n",
      "+-----------+----------+\n",
      "|          0|     82723|\n",
      "|          1|     58102|\n",
      "|          2|     40715|\n",
      "|          3|     26354|\n",
      "|          4|     16816|\n",
      "|          5|     17091|\n",
      "|          6|     42508|\n",
      "|          7|     84885|\n",
      "|          8|    114479|\n",
      "|          9|    128442|\n",
      "|         10|    140715|\n",
      "|         11|    151018|\n",
      "|         12|    166249|\n",
      "|         13|    174835|\n",
      "|         14|    187495|\n",
      "|         15|    192125|\n",
      "|         16|    191473|\n",
      "|         17|    205090|\n",
      "|         18|    211550|\n",
      "|         19|    188975|\n",
      "|         20|    162326|\n",
      "|         21|    158318|\n",
      "|         22|    144309|\n",
      "|         23|    111789|\n",
      "+-----------+----------+\n",
      "\n",
      "+---------------+------------------+-------+\n",
      "|passenger_count|          avg_fare|  count|\n",
      "+---------------+------------------+-------+\n",
      "|           NULL|21.186763601812338|  64201|\n",
      "|            0.0|16.168202510359798|  49953|\n",
      "|            1.0|18.074408467255598|2213563|\n",
      "|            2.0| 20.40332980243411| 443702|\n",
      "|            3.0| 19.86253246753282| 104412|\n",
      "|            4.0|20.882765446795513|  52082|\n",
      "|            5.0| 17.96817410966637|  42456|\n",
      "|            6.0|18.043596657262192|  28001|\n",
      "|            7.0|              67.8|      5|\n",
      "|            8.0| 82.49571428571429|      7|\n",
      "+---------------+------------------+-------+\n",
      "\n",
      "+------------+------+\n",
      "|PULocationID| trips|\n",
      "+------------+------+\n",
      "|         132|154231|\n",
      "|         237|146152|\n",
      "|         236|136648|\n",
      "|         161|133380|\n",
      "|         186|107633|\n",
      "|         162|103821|\n",
      "|         142| 98677|\n",
      "|         230| 97109|\n",
      "|         138| 88022|\n",
      "|         170| 86844|\n",
      "+------------+------+\n",
      "\n"
     ]
    }
   ],
   "source": [
    "# Trips by pickup hour\n",
    "df = df.withColumn('pickup_hour', hour(col('tpep_pickup_datetime')))\n",
    "trips_by_hour = df.groupBy('pickup_hour').agg(count('*').alias('trip_count')).orderBy('pickup_hour')\n",
    "trips_by_hour.show(24)\n",
    "\n",
    "# Average fare by passenger count\n",
    "avg_fare = df.groupBy('passenger_count').agg(avg('fare_amount').alias('avg_fare'), count('*').alias('count')).orderBy('passenger_count')\n",
    "avg_fare.show()\n",
    "\n",
    "# Top 10 pickup locations\n",
    "top_pu = df.groupBy('PULocationID').agg(count('*').alias('trips')).orderBy(desc('trips')).limit(10)\n",
    "top_pu.show()"
   ]
  },
  {
   "cell_type": "markdown",
   "id": "f0e53350",
   "metadata": {},
   "source": [
    "## Visualization (Matplotlib + Pandas)"
   ]
  },
  {
   "cell_type": "code",
   "execution_count": 7,
   "id": "5c2713e2",
   "metadata": {},
   "outputs": [
    {
     "data": {
      "image/png": "[encoded data removed]",
      "text/plain": [
       "<Figure size 1000x500 with 1 Axes>"
      ]
     },
     "metadata": {},
     "output_type": "display_data"
    }
   ],
   "source": [
    "# Convert Spark DF to Pandas\n",
    "trips_by_hour_pdf = trips_by_hour.toPandas()\n",
    "avg_fare_pdf = avg_fare.toPandas()\n",
    "\n",
    "plt.figure(figsize=(10,5))\n",
    "plt.plot(trips_by_hour_pdf['pickup_hour'], trips_by_hour_pdf['trip_count'], marker='o')\n",
    "plt.title('Trips by Pickup Hour')\n",
    "plt.xlabel('Hour of Day')\n",
    "plt.ylabel('Number of Trips')\n",
    "plt.grid(True)\n",
    "plt.show()"
   ]
  },
  {
   "cell_type": "code",
   "execution_count": 8,
   "id": "8a24433c-da38-4dc1-bb62-162279606091",
   "metadata": {},
   "outputs": [
    {
     "data": {
      "image/png": "[encoded data removed]",
      "text/plain": [
       "<Figure size 800x500 with 1 Axes>"
      ]
     },
     "metadata": {},
     "output_type": "display_data"
    }
   ],
   "source": [
    "plt.figure(figsize=(8,5))\n",
    "plt.bar(avg_fare_pdf['passenger_count'].astype(str), avg_fare_pdf['avg_fare'], color='orange')\n",
    "plt.title('Average Fare by Passenger Count')\n",
    "plt.xlabel('Passenger Count')\n",
    "plt.ylabel('Average Fare ($)')\n",
    "plt.show()"
   ]
  },
  {
   "cell_type": "markdown",
   "id": "40af6120",
   "metadata": {},
   "source": [
    "## Save Summary Results"
   ]
  },
  {
   "cell_type": "code",
   "execution_count": 9,
   "id": "353ec005",
   "metadata": {},
   "outputs": [
    {
     "name": "stdout",
     "output_type": "stream",
     "text": [
      "Results saved to results/avg_fare_summary.csv\n"
     ]
    }
   ],
   "source": [
    "out_dir = './results'\n",
    "os.makedirs(out_dir, exist_ok=True)\n",
    "avg_fare_pdf.to_csv(os.path.join(out_dir, 'avg_fare_summary.csv'), index=False)\n",
    "print('Results saved to results/avg_fare_summary.csv')"
   ]
  },
  {
   "cell_type": "markdown",
   "id": "3cbbda94",
   "metadata": {},
   "source": [
    "## Conclusion\n",
    "\n",
    "- Demonstrated how PySpark handles and processes large-scale datasets efficiently.\n",
    "- Analyzed NYC Taxi data for patterns in trip times, passenger count, and fare.\n",
    "- Created visual insights and stored summary results."
   ]
  },
  {
   "cell_type": "markdown",
   "id": "430f3b37-d552-438a-b9e7-3f01c0ae4aa5",
   "metadata": {},
   "source": [
    "## Thank You"
   ]
  }
 ],
 "metadata": {
  "kernelspec": {
   "display_name": "Python 3 (ipykernel)",
   "language": "python",
   "name": "python3"
  },
  "language_info": {
   "codemirror_mode": {
    "name": "ipython",
    "version": 3
   },
   "file_extension": ".py",
   "mimetype": "text/x-python",
   "name": "python",
   "nbconvert_exporter": "python",
   "pygments_lexer": "ipython3",
   "version": "3.11.4"
  }
 },
 "nbformat": 4,
 "nbformat_minor": 5
}
